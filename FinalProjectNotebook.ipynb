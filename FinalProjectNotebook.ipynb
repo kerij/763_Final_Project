{
 "cells": [
  {
   "cell_type": "code",
   "execution_count": 2,
   "metadata": {},
   "outputs": [
    {
     "name": "stdout",
     "output_type": "stream",
     "text": [
      "Requirement already satisfied: imbalanced-learn in /usr/local/envs/py3env/lib/python3.5/site-packages (0.4.3)\n",
      "Requirement already satisfied: scipy>=0.13.3 in /usr/local/envs/py3env/lib/python3.5/site-packages (from imbalanced-learn) (1.0.0)\n",
      "Requirement already satisfied: scikit-learn>=0.20 in /usr/local/envs/py3env/lib/python3.5/site-packages (from imbalanced-learn) (0.20.3)\n",
      "Requirement already satisfied: numpy>=1.8.2 in /usr/local/envs/py3env/lib/python3.5/site-packages (from imbalanced-learn) (1.14.0)\n"
     ]
    }
   ],
   "source": [
    "import numpy as np\n",
    "import pandas as pd\n",
    "import sys\n",
    "!{sys.executable} -m pip install imbalanced-learn\n",
    "from imblearn.over_sampling import SMOTE\n",
    "from sklearn.metrics import accuracy_score, confusion_matrix, recall_score, precision_score\n",
    "from sklearn.preprocessing import StandardScaler\n",
    "from sklearn.linear_model import LogisticRegression\n",
    "from sklearn.model_selection import cross_val_score, cross_validate, GridSearchCV\n",
    "from sklearn.naive_bayes import GaussianNB\n",
    "from sklearn.svm import SVC\n",
    "from sklearn.decomposition import PCA, KernelPCA\n",
    "from sklearn.discriminant_analysis import LinearDiscriminantAnalysis as LDA\n",
    "from sklearn.pipeline import make_pipeline\n",
    "from sklearn.ensemble import RandomForestClassifier"
   ]
  },
  {
   "cell_type": "code",
   "execution_count": 3,
   "metadata": {},
   "outputs": [],
   "source": [
    "import google.datalab.storage as storage\n",
    "from io import BytesIO\n",
    "mybucket = storage.Bucket('machinelearning763finalproject')\n",
    "data_csv = mybucket.object('paysim.csv')\n",
    "uri= data_csv.uri \n",
    "%gcs read --object $uri --variable data_csv\n",
    "#Loading the dataset\n",
    "dataset = pd.read_csv(BytesIO(data_csv))"
   ]
  },
  {
   "cell_type": "code",
   "execution_count": 4,
   "metadata": {},
   "outputs": [],
   "source": [
    "dataset['relativehour'] = (dataset.step % 24).astype(str)\n",
    "dataset['origErrorAmt'] = dataset.newbalanceOrig + dataset.amount - dataset.oldbalanceOrg\n",
    "dataset['destErrorAmt'] = dataset.oldbalanceDest + dataset.amount - dataset.newbalanceDest\n",
    "dataset['origTansPerc'] = ((dataset.amount / dataset.oldbalanceOrg) > 0.99)*1\n",
    "\n",
    "X_all = dataset.iloc[:, [0,1,11,12,13,14]]\n",
    "#X_all['relativehour'] = X_all['relativehour'].astype(str)\n",
    "X_all = pd.get_dummies(X_all, drop_first=True)\n",
    "y_all = dataset.loc[:,'isFraud']"
   ]
  },
  {
   "cell_type": "code",
   "execution_count": 5,
   "metadata": {},
   "outputs": [],
   "source": [
    "datasetTrim = dataset.loc[(dataset.type == 'TRANSFER') | (dataset.type == 'CASH_OUT')]\n",
    "#dataset['type'] = dataset.type.map({'TRANSFER': 0, 'CASH_OUT': 1})\n",
    "X_trim = datasetTrim.iloc[:, [0,1,11,12,13,14]]\n",
    "X_trim = pd.get_dummies(X_trim, drop_first=True)\n",
    "y_trim = datasetTrim.loc[:,'isFraud']"
   ]
  },
  {
   "cell_type": "code",
   "execution_count": null,
   "metadata": {},
   "outputs": [
    {
     "name": "stderr",
     "output_type": "stream",
     "text": [
      "/usr/local/envs/py3env/lib/python3.5/site-packages/sklearn/preprocessing/data.py:645: DataConversionWarning: Data with input dtype uint8, int64, float64 were all converted to float64 by StandardScaler.\n",
      "  return self.partial_fit(X, y)\n"
     ]
    }
   ],
   "source": [
    "sc_X = StandardScaler()\n",
    "#X_train = sc_X.fit_transform(X_train)\n",
    "#X_test = sc_X.transform(X_test)\n",
    "X_all = sc_X.fit_transform(X_all)\n",
    "X_trim = sc_X.fit_transform(X_trim)"
   ]
  },
  {
   "cell_type": "code",
   "execution_count": null,
   "metadata": {},
   "outputs": [],
   "source": [
    "smt=SMOTE()\n",
    "X_all, y_all = smt.fit_sample(X_all, y_all)\n",
    "X_trim, y_trim = smt.fit_sample(X_trim, y_trim)"
   ]
  }
 ],
 "metadata": {
  "kernelspec": {
   "display_name": "Python 3",
   "language": "python",
   "name": "python3"
  },
  "language_info": {
   "codemirror_mode": {
    "name": "ipython",
    "version": 3
   },
   "file_extension": ".py",
   "mimetype": "text/x-python",
   "name": "python",
   "nbconvert_exporter": "python",
   "pygments_lexer": "ipython3",
   "version": "3.5.6"
  }
 },
 "nbformat": 4,
 "nbformat_minor": 2
}
